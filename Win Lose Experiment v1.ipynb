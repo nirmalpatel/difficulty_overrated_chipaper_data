{
 "cells": [
  {
   "cell_type": "markdown",
   "metadata": {
    "deletable": true,
    "editable": true
   },
   "source": [
    "# Battleship Numberline Near Game Analysis\n",
    "\n",
    "Battleship numberline is a numberline estimation game where players explode paper ships by estimating their position on a numberline. Online version of the game can be found here: https://www.brainpop.com/games/battleshipnumberline/"
   ]
  },
  {
   "cell_type": "markdown",
   "metadata": {
    "deletable": true,
    "editable": true
   },
   "source": [
    "## Short summary of things that led to this experiment\n",
    "\n",
    "In previous experiments of Battleship Numberline, when we measured engagement at different difficulty levels, we did not observe an inverted U curve. Instead, we observed that easy levels were played more than moderatly difficult ones. But, inverted U was observed in the online chess game study by Abuhamdeh and Csikszentmihalyi [1]. So why was inverted U not observed in Battleship Numberline? Maybe this was happening because Battleship Numberline game design was not same as the online chess game. Two main differences were this:\n",
    "\n",
    "<ol>\n",
    "<li>Online chess game allowed players to choose their opponent by their chess rank (a choice of difficulty) while Battleship assigned players to a random level of difficulty</li>\n",
    "<li>There was winning and losing state in chess game while Battleship had no win or lose state</li>\n",
    "</ol>\n",
    "\n",
    "So we added these elements one by one and ran two other studies.\n",
    "\n",
    "First study was difficulty choice study, where we found that novelty, rather than difficulty produced an inverted U curve. Final draft of this paper is being prepared as I write.\n",
    "\n",
    "Second study is the study that is analysed in this document. In this study, we added winning and losing states in Battleship Numberline. Players were given particular goal (printed on top of the screen) that they had to meet to win the level. If they didn't meet the goal, they would lose.\n",
    "\n",
    "<table>\n",
    "<tr>\n",
    "<td><img src=\"assets/win_lose_main.png\" width=\"80%\", height=\"80%\"/></td>\n",
    "<td><img src=\"assets/win_lose_won.png\" width=\"80%\", height=\"80%\"/></td>\n",
    "<td><img src=\"assets/win_lose_lost.png\" width=\"80%\", height=\"80%\"/></td>\n",
    "</tr>\n",
    "</table>"
   ]
  },
  {
   "cell_type": "markdown",
   "metadata": {
    "deletable": true,
    "editable": true
   },
   "source": [
    "## Experiment hypotheses\n",
    "\n",
    "In the original study, there were multiple hypotheses, but in this document, only one is presented:\n",
    "\n",
    "H1: Players will be most motivated when they have close games\n",
    "\n",
    "Closeness is score of the level minus goal of the level. e.g. If player scored 90% and goal was 50%, closeness was 40, if player scored 40% and goal was 70%, closeness was -30. All the scores were in percent.\n",
    "\n",
    "Two separate constructs are tried as measure of motivation: (1) Remaining number of trials played and (2) Whether player playes N more levels or not (where N = 1, 2, 3, 4, 5)"
   ]
  },
  {
   "cell_type": "markdown",
   "metadata": {
    "deletable": true,
    "editable": true
   },
   "source": [
    "## Experiment structure\n",
    "\n",
    "Experiment starts with a single 4 item pretest.\n",
    "\n",
    "Afterwards, player is assigned to one of the 36 conditions. Break down of conditions is as follows:\n",
    "\n",
    "Goals(On) X \n",
    "Goal Criteria(40%, 60%, 80%, 100%) X \n",
    "Lock(Locked, Unlocked) X \n",
    "Menu_Achievements(On, Off) X \n",
    "Level Length(5, 10)\n",
    "+\n",
    "Goals(Off) X \n",
    "￼Menu_Achievements(On, Off) X \n",
    "Level Length(5, 10)\n",
    "\n",
    "That totals to 1x4x2x2x2 + 1x2x2 = 32 + 4 = 36 conditions."
   ]
  },
  {
   "cell_type": "markdown",
   "metadata": {
    "deletable": true,
    "editable": true
   },
   "source": [
    "## Data for the experiment\n",
    "\n",
    "Original data had some discrepencies, so I cleand the heck out of it. I think we might find data cleanliness OCD in later versions of DSM. The main issue was that unique identifier of multiple subjects were same, and this had created illegal values in the data. e.g. It is impossible to have closeness anything other than 0, 10, 20 ... 100. But in collected data, it was not so. For this reason and others similar to this, data was cleaned to remove all subjects that had illegal entries associated with them. In this analysis, the cleaned data is used."
   ]
  },
  {
   "cell_type": "markdown",
   "metadata": {
    "deletable": true,
    "editable": true
   },
   "source": [
    "<b>References:</b>\n",
    "\n",
    "[1]: Abuhamdeh, S. and Csikszentmihalyi, M. (2012) The Importance of Challenge for the Enjoyment of Intrinsically Motivated, Goal-Directed Activities. Personality and Social Psychology Bulletin 38, 3, 317– 330."
   ]
  },
  {
   "cell_type": "markdown",
   "metadata": {
    "deletable": true,
    "editable": true
   },
   "source": [
    "## Analysis"
   ]
  },
  {
   "cell_type": "code",
   "execution_count": 3,
   "metadata": {
    "collapsed": false,
    "deletable": true,
    "editable": true
   },
   "outputs": [],
   "source": [
    "%matplotlib inline\n",
    "import pandas as pd\n",
    "import numpy as np\n",
    "import matplotlib.pyplot as plt\n",
    "import seaborn as sns\n",
    "import statsmodels.formula.api as smf\n",
    "from playdatalib.bsnl import bdelib, bdeutils\n",
    "\n",
    "pd.set_option('max_columns', 50)\n",
    "df = pd.read_csv('data/win_lose_clean_v2.csv.gz')"
   ]
  },
  {
   "cell_type": "code",
   "execution_count": 4,
   "metadata": {
    "collapsed": false,
    "deletable": true,
    "editable": true
   },
   "outputs": [
    {
     "data": {
      "text/html": [
       "<div>\n",
       "<table border=\"1\" class=\"dataframe\">\n",
       "  <thead>\n",
       "    <tr style=\"text-align: right;\">\n",
       "      <th></th>\n",
       "      <th>USID</th>\n",
       "      <th>controlSwitch</th>\n",
       "      <th>vessel</th>\n",
       "      <th>question</th>\n",
       "      <th>answer</th>\n",
       "      <th>answerDecimal</th>\n",
       "      <th>hitType</th>\n",
       "      <th>reactionTime</th>\n",
       "      <th>currentAccuracy</th>\n",
       "      <th>averageAccuracy</th>\n",
       "      <th>levelItemNumber</th>\n",
       "      <th>timeLimit</th>\n",
       "      <th>starCount</th>\n",
       "      <th>hitSwitch</th>\n",
       "      <th>perfectHitPercent</th>\n",
       "      <th>startPoint</th>\n",
       "      <th>endPoint</th>\n",
       "      <th>levelName</th>\n",
       "      <th>levelLength</th>\n",
       "      <th>scoreCardSwitch</th>\n",
       "      <th>goalSwitch</th>\n",
       "      <th>goalPercent</th>\n",
       "      <th>levelDifficulty</th>\n",
       "      <th>lockSwitch</th>\n",
       "      <th>unlockCriteria</th>\n",
       "      <th>menuAchievements</th>\n",
       "      <th>levelDifficultyMenuButtonNumber</th>\n",
       "      <th>levelDifficultyChoices</th>\n",
       "      <th>numDomainLevelsPlayed</th>\n",
       "      <th>numCurDiffLevelsAttempted</th>\n",
       "      <th>winOrLoss</th>\n",
       "      <th>percentCorrect</th>\n",
       "      <th>conditionNumber</th>\n",
       "      <th>timeSpent</th>\n",
       "      <th>trialNumber</th>\n",
       "      <th>domainCode</th>\n",
       "      <th>domainNumber</th>\n",
       "    </tr>\n",
       "  </thead>\n",
       "  <tbody>\n",
       "    <tr>\n",
       "      <th>0</th>\n",
       "      <td>1167912_1_F</td>\n",
       "      <td>0</td>\n",
       "      <td>submarine</td>\n",
       "      <td>7/10</td>\n",
       "      <td>(738.55 # 500.5)</td>\n",
       "      <td>0.7680</td>\n",
       "      <td>Near Miss!!</td>\n",
       "      <td>4.098</td>\n",
       "      <td>93.20</td>\n",
       "      <td>93.20</td>\n",
       "      <td>1</td>\n",
       "      <td>20</td>\n",
       "      <td>0</td>\n",
       "      <td>0</td>\n",
       "      <td>95</td>\n",
       "      <td>0</td>\n",
       "      <td>1</td>\n",
       "      <td>fraction_win_lose_pretest</td>\n",
       "      <td>4</td>\n",
       "      <td>1</td>\n",
       "      <td>0</td>\n",
       "      <td>-1</td>\n",
       "      <td>Test</td>\n",
       "      <td>0</td>\n",
       "      <td>None</td>\n",
       "      <td>Off</td>\n",
       "      <td>-1</td>\n",
       "      <td>None</td>\n",
       "      <td>-1</td>\n",
       "      <td>-1</td>\n",
       "      <td>-1</td>\n",
       "      <td>-1.0</td>\n",
       "      <td>-1</td>\n",
       "      <td>34.757</td>\n",
       "      <td>1</td>\n",
       "      <td>F</td>\n",
       "      <td>1</td>\n",
       "    </tr>\n",
       "    <tr>\n",
       "      <th>1</th>\n",
       "      <td>1167912_1_F</td>\n",
       "      <td>0</td>\n",
       "      <td>submarine</td>\n",
       "      <td>1/10</td>\n",
       "      <td>(188.15 # 316.15)</td>\n",
       "      <td>0.1201</td>\n",
       "      <td>Perfect Hit!!</td>\n",
       "      <td>3.602</td>\n",
       "      <td>97.99</td>\n",
       "      <td>95.60</td>\n",
       "      <td>2</td>\n",
       "      <td>20</td>\n",
       "      <td>1</td>\n",
       "      <td>1</td>\n",
       "      <td>95</td>\n",
       "      <td>0</td>\n",
       "      <td>1</td>\n",
       "      <td>fraction_win_lose_pretest</td>\n",
       "      <td>4</td>\n",
       "      <td>1</td>\n",
       "      <td>0</td>\n",
       "      <td>-1</td>\n",
       "      <td>Test</td>\n",
       "      <td>0</td>\n",
       "      <td>None</td>\n",
       "      <td>Off</td>\n",
       "      <td>-1</td>\n",
       "      <td>None</td>\n",
       "      <td>-1</td>\n",
       "      <td>-1</td>\n",
       "      <td>-1</td>\n",
       "      <td>-1.0</td>\n",
       "      <td>-1</td>\n",
       "      <td>43.138</td>\n",
       "      <td>2</td>\n",
       "      <td>F</td>\n",
       "      <td>1</td>\n",
       "    </tr>\n",
       "    <tr>\n",
       "      <th>2</th>\n",
       "      <td>1167912_1_F</td>\n",
       "      <td>0</td>\n",
       "      <td>submarine</td>\n",
       "      <td>4/5</td>\n",
       "      <td>(423.7 # 240.65)</td>\n",
       "      <td>0.3969</td>\n",
       "      <td>Miss!!</td>\n",
       "      <td>2.048</td>\n",
       "      <td>59.69</td>\n",
       "      <td>83.63</td>\n",
       "      <td>3</td>\n",
       "      <td>20</td>\n",
       "      <td>1</td>\n",
       "      <td>0</td>\n",
       "      <td>95</td>\n",
       "      <td>0</td>\n",
       "      <td>1</td>\n",
       "      <td>fraction_win_lose_pretest</td>\n",
       "      <td>4</td>\n",
       "      <td>1</td>\n",
       "      <td>0</td>\n",
       "      <td>-1</td>\n",
       "      <td>Test</td>\n",
       "      <td>0</td>\n",
       "      <td>None</td>\n",
       "      <td>Off</td>\n",
       "      <td>-1</td>\n",
       "      <td>None</td>\n",
       "      <td>-1</td>\n",
       "      <td>-1</td>\n",
       "      <td>-1</td>\n",
       "      <td>-1.0</td>\n",
       "      <td>-1</td>\n",
       "      <td>50.049</td>\n",
       "      <td>3</td>\n",
       "      <td>F</td>\n",
       "      <td>1</td>\n",
       "    </tr>\n",
       "    <tr>\n",
       "      <th>3</th>\n",
       "      <td>1167912_1_F</td>\n",
       "      <td>0</td>\n",
       "      <td>submarine</td>\n",
       "      <td>1/4</td>\n",
       "      <td>(538.9 # 270.1)</td>\n",
       "      <td>0.5324</td>\n",
       "      <td>Miss!!</td>\n",
       "      <td>6.757</td>\n",
       "      <td>71.76</td>\n",
       "      <td>80.66</td>\n",
       "      <td>4</td>\n",
       "      <td>20</td>\n",
       "      <td>1</td>\n",
       "      <td>0</td>\n",
       "      <td>95</td>\n",
       "      <td>0</td>\n",
       "      <td>1</td>\n",
       "      <td>fraction_win_lose_pretest</td>\n",
       "      <td>4</td>\n",
       "      <td>1</td>\n",
       "      <td>0</td>\n",
       "      <td>-1</td>\n",
       "      <td>Test</td>\n",
       "      <td>0</td>\n",
       "      <td>None</td>\n",
       "      <td>Off</td>\n",
       "      <td>-1</td>\n",
       "      <td>None</td>\n",
       "      <td>-1</td>\n",
       "      <td>-1</td>\n",
       "      <td>-1</td>\n",
       "      <td>-1.0</td>\n",
       "      <td>-1</td>\n",
       "      <td>61.629</td>\n",
       "      <td>4</td>\n",
       "      <td>F</td>\n",
       "      <td>1</td>\n",
       "    </tr>\n",
       "    <tr>\n",
       "      <th>4</th>\n",
       "      <td>1167912_1_F</td>\n",
       "      <td>0</td>\n",
       "      <td>submarine</td>\n",
       "      <td>3/10</td>\n",
       "      <td>(203.5 # 293.1)</td>\n",
       "      <td>0.1378</td>\n",
       "      <td>Near Miss!!</td>\n",
       "      <td>3.245</td>\n",
       "      <td>83.78</td>\n",
       "      <td>83.78</td>\n",
       "      <td>1</td>\n",
       "      <td>25</td>\n",
       "      <td>0</td>\n",
       "      <td>0</td>\n",
       "      <td>85</td>\n",
       "      <td>0</td>\n",
       "      <td>1</td>\n",
       "      <td>fraction_win_lose_level_Very_Easy</td>\n",
       "      <td>5</td>\n",
       "      <td>1</td>\n",
       "      <td>0</td>\n",
       "      <td>-1</td>\n",
       "      <td>Very_Easy</td>\n",
       "      <td>0</td>\n",
       "      <td>None</td>\n",
       "      <td>None</td>\n",
       "      <td>1</td>\n",
       "      <td>Very_Easy-Easy-Medium-Hard-Very_Hard</td>\n",
       "      <td>1</td>\n",
       "      <td>1</td>\n",
       "      <td>-1</td>\n",
       "      <td>-1.0</td>\n",
       "      <td>33</td>\n",
       "      <td>78.144</td>\n",
       "      <td>5</td>\n",
       "      <td>F</td>\n",
       "      <td>1</td>\n",
       "    </tr>\n",
       "  </tbody>\n",
       "</table>\n",
       "</div>"
      ],
      "text/plain": [
       "          USID  controlSwitch     vessel question             answer  \\\n",
       "0  1167912_1_F              0  submarine     7/10   (738.55 # 500.5)   \n",
       "1  1167912_1_F              0  submarine     1/10  (188.15 # 316.15)   \n",
       "2  1167912_1_F              0  submarine      4/5   (423.7 # 240.65)   \n",
       "3  1167912_1_F              0  submarine      1/4    (538.9 # 270.1)   \n",
       "4  1167912_1_F              0  submarine     3/10    (203.5 # 293.1)   \n",
       "\n",
       "   answerDecimal        hitType  reactionTime  currentAccuracy  \\\n",
       "0         0.7680    Near Miss!!         4.098            93.20   \n",
       "1         0.1201  Perfect Hit!!         3.602            97.99   \n",
       "2         0.3969         Miss!!         2.048            59.69   \n",
       "3         0.5324         Miss!!         6.757            71.76   \n",
       "4         0.1378    Near Miss!!         3.245            83.78   \n",
       "\n",
       "   averageAccuracy  levelItemNumber  timeLimit  starCount  hitSwitch  \\\n",
       "0            93.20                1         20          0          0   \n",
       "1            95.60                2         20          1          1   \n",
       "2            83.63                3         20          1          0   \n",
       "3            80.66                4         20          1          0   \n",
       "4            83.78                1         25          0          0   \n",
       "\n",
       "   perfectHitPercent  startPoint  endPoint                          levelName  \\\n",
       "0                 95           0         1          fraction_win_lose_pretest   \n",
       "1                 95           0         1          fraction_win_lose_pretest   \n",
       "2                 95           0         1          fraction_win_lose_pretest   \n",
       "3                 95           0         1          fraction_win_lose_pretest   \n",
       "4                 85           0         1  fraction_win_lose_level_Very_Easy   \n",
       "\n",
       "   levelLength  scoreCardSwitch  goalSwitch  goalPercent levelDifficulty  \\\n",
       "0            4                1           0           -1            Test   \n",
       "1            4                1           0           -1            Test   \n",
       "2            4                1           0           -1            Test   \n",
       "3            4                1           0           -1            Test   \n",
       "4            5                1           0           -1       Very_Easy   \n",
       "\n",
       "   lockSwitch unlockCriteria menuAchievements  \\\n",
       "0           0           None              Off   \n",
       "1           0           None              Off   \n",
       "2           0           None              Off   \n",
       "3           0           None              Off   \n",
       "4           0           None             None   \n",
       "\n",
       "   levelDifficultyMenuButtonNumber                levelDifficultyChoices  \\\n",
       "0                               -1                                  None   \n",
       "1                               -1                                  None   \n",
       "2                               -1                                  None   \n",
       "3                               -1                                  None   \n",
       "4                                1  Very_Easy-Easy-Medium-Hard-Very_Hard   \n",
       "\n",
       "   numDomainLevelsPlayed  numCurDiffLevelsAttempted winOrLoss  percentCorrect  \\\n",
       "0                     -1                         -1        -1            -1.0   \n",
       "1                     -1                         -1        -1            -1.0   \n",
       "2                     -1                         -1        -1            -1.0   \n",
       "3                     -1                         -1        -1            -1.0   \n",
       "4                      1                          1        -1            -1.0   \n",
       "\n",
       "   conditionNumber  timeSpent  trialNumber domainCode  domainNumber  \n",
       "0               -1     34.757            1          F             1  \n",
       "1               -1     43.138            2          F             1  \n",
       "2               -1     50.049            3          F             1  \n",
       "3               -1     61.629            4          F             1  \n",
       "4               33     78.144            5          F             1  "
      ]
     },
     "execution_count": 4,
     "metadata": {},
     "output_type": "execute_result"
    }
   ],
   "source": [
    "df.head()"
   ]
  },
  {
   "cell_type": "code",
   "execution_count": 5,
   "metadata": {
    "collapsed": false,
    "deletable": true,
    "editable": true
   },
   "outputs": [
    {
     "data": {
      "text/plain": [
       "(269886, 37)"
      ]
     },
     "execution_count": 5,
     "metadata": {},
     "output_type": "execute_result"
    }
   ],
   "source": [
    "df.shape"
   ]
  },
  {
   "cell_type": "markdown",
   "metadata": {
    "deletable": true,
    "editable": true
   },
   "source": [
    "Here is summary of imporant variables that we have used in the analysis:\n",
    "\n",
    "<ul>\n",
    "    <li>USID - user session ID, a unique identify for one user session</li>\n",
    "    <li>controlSwitch - 0 for experimental condition, 1 for control condition</li>\n",
    "    <li>goalSwitch - 0 for goals off condition, 1 for goals on condition</li>\n",
    "    <li>levelDifficulty - Very_Easy, Easy, Medium, Hard, Very_Hard for non pretest levels, Test for pretest</li>\n",
    "    <li>hitSwitch - 0 if target was not hit, 1 if target was hit</li>\n",
    "    <li>timeSpent - total time spent in the session (a running sum)</li>\n",
    "    <li>trialNumber - total trials played in the session (a running sum)</li>\n",
    "    <li>numDomainLevelsPlayed - number of levels played in current experimental condition</li>\n",
    "</ul>\n",
    "\n",
    "So, in the dataframe printed above, we see subject with USID 1167912_1_F playing 4 pretest trials and 1 experimental trial.\n",
    "\n",
    "Exploratory analysis on a less clean version of same dataset can be found here:\n",
    "[Links here]"
   ]
  },
  {
   "cell_type": "markdown",
   "metadata": {
    "deletable": true,
    "editable": true
   },
   "source": [
    "### Adding new columns\n",
    "\n",
    "First, we will add four aggregated columns.\n",
    "\n",
    "<ol>\n",
    "    <li>pretestScore - average hitSwitch for pretest e.g. 0.25 if player got 1 out of 4 trials correct, per user</li>\n",
    "    <li>max_timeSpent - maximum time spent in a session (in seconds), per user</li>\n",
    "    <li>max_trialNumber - maximum trials played in a session, per user</li>\n",
    "    <li>max_numDomainLevelsPlayed - maximum levels played in a session, per user</li>\n",
    "</ol>\n",
    "\n",
    "All new columns are per user, so we will use gropuby operation on USID and add new columns."
   ]
  },
  {
   "cell_type": "code",
   "execution_count": 6,
   "metadata": {
    "collapsed": false,
    "deletable": true,
    "editable": true
   },
   "outputs": [],
   "source": [
    "# Subsetting out pretest rows\n",
    "df_test = df[df.levelDifficulty == 'Test']\n",
    "\n",
    "# Using the subset to calculate pretest score by grouping over USID and taking mean of hitSwitch for every group\n",
    "df_test = (bdelib\n",
    "           .tabulate(df_test, groupingCols=['USID'], analysisCols=['hitSwitch'], aggfuncs=['mean'])\n",
    "           .rename(columns={'mean_hitSwitch':'pretestScore'}))\n",
    "\n",
    "# Merging results back to main dataframe\n",
    "df = df.merge(df_test, on=['USID'])\n",
    "\n",
    "# Adding max timeSpent, trialNumber and numDomainLevelsPlayed to main dataframe\n",
    "df = (bdelib\n",
    "      .addAggregatedColumn(df, groupingCols=['USID'],\n",
    "                           analysisCols=['timeSpent', 'trialNumber', 'numDomainLevelsPlayed'],\n",
    "                           aggfuncs=['max', 'max', 'max']))"
   ]
  },
  {
   "cell_type": "code",
   "execution_count": 7,
   "metadata": {
    "collapsed": false,
    "deletable": true,
    "editable": true
   },
   "outputs": [
    {
     "data": {
      "text/plain": [
       "(269886, 41)"
      ]
     },
     "execution_count": 7,
     "metadata": {},
     "output_type": "execute_result"
    }
   ],
   "source": [
    "df.shape"
   ]
  },
  {
   "cell_type": "code",
   "execution_count": 8,
   "metadata": {
    "collapsed": false,
    "deletable": true,
    "editable": true
   },
   "outputs": [
    {
     "data": {
      "text/plain": [
       "Index(['pretestScore', 'max_timeSpent', 'max_trialNumber',\n",
       "       'max_numDomainLevelsPlayed'],\n",
       "      dtype='object')"
      ]
     },
     "execution_count": 8,
     "metadata": {},
     "output_type": "execute_result"
    }
   ],
   "source": [
    "# We can see that new columns were added\n",
    "\n",
    "df.columns[-4:]"
   ]
  },
  {
   "cell_type": "markdown",
   "metadata": {
    "deletable": true,
    "editable": true
   },
   "source": [
    "### Plots and models of closeness v/s remainingTrials"
   ]
  },
  {
   "cell_type": "code",
   "execution_count": 9,
   "metadata": {
    "collapsed": true,
    "deletable": true,
    "editable": true
   },
   "outputs": [],
   "source": [
    "# Adding new columns that will be plotted against each other\n",
    "\n",
    "df['closeness'] = df.percentCorrect - df.goalPercent\n",
    "df['remainingTrials'] = df.max_trialNumber - df.trialNumber"
   ]
  },
  {
   "cell_type": "code",
   "execution_count": 10,
   "metadata": {
    "collapsed": false,
    "deletable": true,
    "editable": true
   },
   "outputs": [
    {
     "data": {
      "text/html": [
       "<div>\n",
       "<table border=\"1\" class=\"dataframe\">\n",
       "  <thead>\n",
       "    <tr style=\"text-align: right;\">\n",
       "      <th></th>\n",
       "      <th>closeness</th>\n",
       "      <th>remainingTrials</th>\n",
       "    </tr>\n",
       "  </thead>\n",
       "  <tbody>\n",
       "    <tr>\n",
       "      <th>40</th>\n",
       "      <td>-50.0</td>\n",
       "      <td>6</td>\n",
       "    </tr>\n",
       "    <tr>\n",
       "      <th>55</th>\n",
       "      <td>0.0</td>\n",
       "      <td>27</td>\n",
       "    </tr>\n",
       "    <tr>\n",
       "      <th>60</th>\n",
       "      <td>0.0</td>\n",
       "      <td>22</td>\n",
       "    </tr>\n",
       "    <tr>\n",
       "      <th>65</th>\n",
       "      <td>-20.0</td>\n",
       "      <td>17</td>\n",
       "    </tr>\n",
       "    <tr>\n",
       "      <th>72</th>\n",
       "      <td>0.0</td>\n",
       "      <td>10</td>\n",
       "    </tr>\n",
       "  </tbody>\n",
       "</table>\n",
       "</div>"
      ],
      "text/plain": [
       "    closeness  remainingTrials\n",
       "40      -50.0                6\n",
       "55        0.0               27\n",
       "60        0.0               22\n",
       "65      -20.0               17\n",
       "72        0.0               10"
      ]
     },
     "execution_count": 10,
     "metadata": {},
     "output_type": "execute_result"
    }
   ],
   "source": [
    "# percentCorrect is -1 for all the rows that are not representing the end of the level\n",
    "# so here we are only selecting rows that tell us what happened on the end of the level\n",
    "\n",
    "df.query(\"percentCorrect >= 0.0\")[['closeness', 'remainingTrials']].head()"
   ]
  },
  {
   "cell_type": "markdown",
   "metadata": {
    "deletable": true,
    "editable": true
   },
   "source": [
    "Here we have...\n",
    "\n",
    "X = closeness,\n",
    "Y = remainingTime\n",
    "\n",
    "We will plot closeness <= 0 (losses) and closeness >= 0 (wins) in separate plots."
   ]
  },
  {
   "cell_type": "markdown",
   "metadata": {
    "deletable": true,
    "editable": true
   },
   "source": [
    "#### Losses"
   ]
  },
  {
   "cell_type": "code",
   "execution_count": 11,
   "metadata": {
    "collapsed": false,
    "deletable": true,
    "editable": true
   },
   "outputs": [
    {
     "data": {
      "image/png": "[encoded data removed]",
      "text/plain": [
       "<matplotlib.figure.Figure at 0x7efca7c557f0>"
      ]
     },
     "metadata": {},
     "output_type": "display_data"
    }
   ],
   "source": [
    "# Calling this 'left part of the whole graph'\n",
    "# Controlling for level difficulty (very easy and easy)\n",
    "# Controlling for and maximum levels played in a session (5)\n",
    "\n",
    "df_a1_left = df.query('closeness <= 0 & (levelDifficulty == \"Very_Easy\" | levelDifficulty == \"Easy\") & \\\n",
    "                max_numDomainLevelsPlayed <= 5')\n",
    "\n",
    "sns.regplot(df_a1_left.closeness, df_a1_left.remainingTrials)\n",
    "plt.ylim((0,40))\n",
    "plt.xlim((-100,0))\n",
    "plt.title('closeness v/s remainingTrials for losses')\n",
    "plt.show()"
   ]
  },
  {
   "cell_type": "code",
   "execution_count": 12,
   "metadata": {
    "collapsed": false,
    "deletable": true,
    "editable": true
   },
   "outputs": [
    {
     "data": {
      "text/html": [
       "<table class=\"simpletable\">\n",
       "<tr>\n",
       "        <td>Model:</td>               <td>OLS</td>         <td>Adj. R-squared:</td>      <td>0.010</td>   \n",
       "</tr>\n",
       "<tr>\n",
       "  <td>Dependent Variable:</td>  <td>remainingTrials</td>        <td>AIC:</td>         <td>706848.8747</td>\n",
       "</tr>\n",
       "<tr>\n",
       "         <td>Date:</td>        <td>2017-01-05 15:55</td>        <td>BIC:</td>         <td>706867.7307</td>\n",
       "</tr>\n",
       "<tr>\n",
       "   <td>No. Observations:</td>        <td>91859</td>        <td>Log-Likelihood:</td>   <td>-3.5342e+05</td>\n",
       "</tr>\n",
       "<tr>\n",
       "       <td>Df Model:</td>              <td>1</td>           <td>F-statistic:</td>        <td>968.9</td>   \n",
       "</tr>\n",
       "<tr>\n",
       "     <td>Df Residuals:</td>          <td>91857</td>      <td>Prob (F-statistic):</td>  <td>1.35e-211</td> \n",
       "</tr>\n",
       "<tr>\n",
       "      <td>R-squared:</td>            <td>0.010</td>            <td>Scale:</td>          <td>128.64</td>   \n",
       "</tr>\n",
       "</table>\n",
       "<table class=\"simpletable\">\n",
       "<tr>\n",
       "      <td></td>       <th>Coef.</th>  <th>Std.Err.</th>     <th>t</th>     <th>P>|t|</th> <th>[0.025</th>  <th>0.975]</th> \n",
       "</tr>\n",
       "<tr>\n",
       "  <th>Intercept</th> <td>14.1244</td>  <td>0.0734</td>  <td>192.3574</td> <td>0.0000</td> <td>13.9804</td> <td>14.2683</td>\n",
       "</tr>\n",
       "<tr>\n",
       "  <th>closeness</th> <td>0.0340</td>   <td>0.0011</td>   <td>31.1264</td> <td>0.0000</td> <td>0.0319</td>  <td>0.0361</td> \n",
       "</tr>\n",
       "</table>\n",
       "<table class=\"simpletable\">\n",
       "<tr>\n",
       "     <td>Omnibus:</td>    <td>31651.543</td>  <td>Durbin-Watson:</td>      <td>0.210</td>  \n",
       "</tr>\n",
       "<tr>\n",
       "  <td>Prob(Omnibus):</td>   <td>0.000</td>   <td>Jarque-Bera (JB):</td> <td>125288.742</td>\n",
       "</tr>\n",
       "<tr>\n",
       "       <td>Skew:</td>       <td>1.691</td>       <td>Prob(JB):</td>        <td>0.000</td>  \n",
       "</tr>\n",
       "<tr>\n",
       "     <td>Kurtosis:</td>     <td>7.615</td>    <td>Condition No.:</td>       <td>132</td>   \n",
       "</tr>\n",
       "</table>"
      ],
      "text/plain": [
       "<class 'statsmodels.iolib.summary2.Summary'>\n",
       "\"\"\"\n",
       "                  Results: Ordinary least squares\n",
       "====================================================================\n",
       "Model:              OLS              Adj. R-squared:     0.010      \n",
       "Dependent Variable: remainingTrials  AIC:                706848.8747\n",
       "Date:               2017-01-05 15:55 BIC:                706867.7307\n",
       "No. Observations:   91859            Log-Likelihood:     -3.5342e+05\n",
       "Df Model:           1                F-statistic:        968.9      \n",
       "Df Residuals:       91857            Prob (F-statistic): 1.35e-211  \n",
       "R-squared:          0.010            Scale:              128.64     \n",
       "----------------------------------------------------------------------\n",
       "             Coef.    Std.Err.      t       P>|t|     [0.025    0.975]\n",
       "----------------------------------------------------------------------\n",
       "Intercept   14.1244     0.0734   192.3574   0.0000   13.9804   14.2683\n",
       "closeness    0.0340     0.0011    31.1264   0.0000    0.0319    0.0361\n",
       "--------------------------------------------------------------------\n",
       "Omnibus:            31651.543      Durbin-Watson:         0.210     \n",
       "Prob(Omnibus):      0.000          Jarque-Bera (JB):      125288.742\n",
       "Skew:               1.691          Prob(JB):              0.000     \n",
       "Kurtosis:           7.615          Condition No.:         132       \n",
       "====================================================================\n",
       "\n",
       "\"\"\""
      ]
     },
     "execution_count": 12,
     "metadata": {},
     "output_type": "execute_result"
    }
   ],
   "source": [
    "model_a1_left = smf.ols(formula='remainingTrials ~ closeness', data=df_a1_left)\n",
    "results = model_a1_left.fit()\n",
    "results.summary2()"
   ]
  },
  {
   "cell_type": "markdown",
   "metadata": {
    "deletable": true,
    "editable": true
   },
   "source": [
    "#### Wins"
   ]
  },
  {
   "cell_type": "code",
   "execution_count": 13,
   "metadata": {
    "collapsed": false,
    "deletable": true,
    "editable": true
   },
   "outputs": [
    {
     "data": {
      "image/png": "[encoded data removed]",
      "text/plain": [
       "<matplotlib.figure.Figure at 0x7efca7cf0f98>"
      ]
     },
     "metadata": {},
     "output_type": "display_data"
    }
   ],
   "source": [
    "# Calling this 'left part of the whole graph'\n",
    "# Controlling for level difficulty (very easy and easy)\n",
    "# Controlling for and maximum levels played in a session (5)\n",
    "\n",
    "df_a1_right = df.query('closeness >= 0 & (levelDifficulty == \"Very_Easy\" | levelDifficulty == \"Easy\") & \\\n",
    "                max_numDomainLevelsPlayed <= 5')\n",
    "\n",
    "sns.regplot(df_a1_right.closeness, df_a1_right.remainingTrials)\n",
    "plt.ylim((0,40))\n",
    "plt.xlim((0,60))\n",
    "plt.title('closeness v/s remainingTrials for wins')\n",
    "plt.show()"
   ]
  },
  {
   "cell_type": "code",
   "execution_count": 14,
   "metadata": {
    "collapsed": false,
    "deletable": true,
    "editable": true
   },
   "outputs": [
    {
     "data": {
      "text/html": [
       "<table class=\"simpletable\">\n",
       "<tr>\n",
       "        <td>Model:</td>               <td>OLS</td>         <td>Adj. R-squared:</td>      <td>0.007</td>   \n",
       "</tr>\n",
       "<tr>\n",
       "  <td>Dependent Variable:</td>  <td>remainingTrials</td>        <td>AIC:</td>         <td>158298.9879</td>\n",
       "</tr>\n",
       "<tr>\n",
       "         <td>Date:</td>        <td>2017-01-05 15:55</td>        <td>BIC:</td>         <td>158314.7108</td>\n",
       "</tr>\n",
       "<tr>\n",
       "   <td>No. Observations:</td>        <td>19177</td>        <td>Log-Likelihood:</td>     <td>-79147.</td>  \n",
       "</tr>\n",
       "<tr>\n",
       "       <td>Df Model:</td>              <td>1</td>           <td>F-statistic:</td>        <td>142.2</td>   \n",
       "</tr>\n",
       "<tr>\n",
       "     <td>Df Residuals:</td>          <td>19175</td>      <td>Prob (F-statistic):</td>  <td>1.14e-32</td>  \n",
       "</tr>\n",
       "<tr>\n",
       "      <td>R-squared:</td>            <td>0.007</td>            <td>Scale:</td>          <td>225.12</td>   \n",
       "</tr>\n",
       "</table>\n",
       "<table class=\"simpletable\">\n",
       "<tr>\n",
       "      <td></td>       <th>Coef.</th>  <th>Std.Err.</th>     <th>t</th>     <th>P>|t|</th> <th>[0.025</th>  <th>0.975]</th> \n",
       "</tr>\n",
       "<tr>\n",
       "  <th>Intercept</th> <td>14.8812</td>  <td>0.1159</td>  <td>128.4283</td> <td>0.0000</td> <td>14.6541</td> <td>15.1084</td>\n",
       "</tr>\n",
       "<tr>\n",
       "  <th>closeness</th> <td>-0.0931</td>  <td>0.0078</td>  <td>-11.9256</td> <td>0.0000</td> <td>-0.1084</td> <td>-0.0778</td>\n",
       "</tr>\n",
       "</table>\n",
       "<table class=\"simpletable\">\n",
       "<tr>\n",
       "     <td>Omnibus:</td>    <td>7946.189</td>  <td>Durbin-Watson:</td>     <td>0.253</td>  \n",
       "</tr>\n",
       "<tr>\n",
       "  <td>Prob(Omnibus):</td>   <td>0.000</td>  <td>Jarque-Bera (JB):</td> <td>35860.433</td>\n",
       "</tr>\n",
       "<tr>\n",
       "       <td>Skew:</td>       <td>2.023</td>      <td>Prob(JB):</td>       <td>0.000</td>  \n",
       "</tr>\n",
       "<tr>\n",
       "     <td>Kurtosis:</td>     <td>8.339</td>   <td>Condition No.:</td>      <td>16</td>    \n",
       "</tr>\n",
       "</table>"
      ],
      "text/plain": [
       "<class 'statsmodels.iolib.summary2.Summary'>\n",
       "\"\"\"\n",
       "                  Results: Ordinary least squares\n",
       "====================================================================\n",
       "Model:              OLS              Adj. R-squared:     0.007      \n",
       "Dependent Variable: remainingTrials  AIC:                158298.9879\n",
       "Date:               2017-01-05 15:55 BIC:                158314.7108\n",
       "No. Observations:   19177            Log-Likelihood:     -79147.    \n",
       "Df Model:           1                F-statistic:        142.2      \n",
       "Df Residuals:       19175            Prob (F-statistic): 1.14e-32   \n",
       "R-squared:          0.007            Scale:              225.12     \n",
       "----------------------------------------------------------------------\n",
       "             Coef.    Std.Err.      t       P>|t|     [0.025    0.975]\n",
       "----------------------------------------------------------------------\n",
       "Intercept   14.8812     0.1159   128.4283   0.0000   14.6541   15.1084\n",
       "closeness   -0.0931     0.0078   -11.9256   0.0000   -0.1084   -0.0778\n",
       "--------------------------------------------------------------------\n",
       "Omnibus:              7946.189      Durbin-Watson:         0.253    \n",
       "Prob(Omnibus):        0.000         Jarque-Bera (JB):      35860.433\n",
       "Skew:                 2.023         Prob(JB):              0.000    \n",
       "Kurtosis:             8.339         Condition No.:         16       \n",
       "====================================================================\n",
       "\n",
       "\"\"\""
      ]
     },
     "execution_count": 14,
     "metadata": {},
     "output_type": "execute_result"
    }
   ],
   "source": [
    "model_a1_right = smf.ols(formula='remainingTrials ~ closeness', data=df_a1_right)\n",
    "results = model_a1_right.fit()\n",
    "results.summary2()"
   ]
  },
  {
   "cell_type": "markdown",
   "metadata": {
    "deletable": true,
    "editable": true
   },
   "source": [
    "In both cases, we see that close games are predicting higher remaining trials played than far games."
   ]
  },
  {
   "cell_type": "code",
   "execution_count": null,
   "metadata": {
    "collapsed": true,
    "deletable": true,
    "editable": true
   },
   "outputs": [],
   "source": []
  }
 ],
 "metadata": {
  "anaconda-cloud": {
   "attach-environment": true,
   "environment": "Root",
   "summary": "Analysis of win lose experiment in online game Battleship Numberline.",
   "thumbnail": "data:image/png;base64,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",
   "url": "https://anaconda.org/nirmalpatel/win-lose-experiment-v1"
  },
  "kernelspec": {
   "display_name": "Python 2",
   "language": "python",
   "name": "python2"
  },
  "language_info": {
   "codemirror_mode": {
    "name": "ipython",
    "version": 2
   },
   "file_extension": ".py",
   "mimetype": "text/x-python",
   "name": "python",
   "nbconvert_exporter": "python",
   "pygments_lexer": "ipython2",
   "version": "2.7.12"
  }
 },
 "nbformat": 4,
 "nbformat_minor": 0
}
